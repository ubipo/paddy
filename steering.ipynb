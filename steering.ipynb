{
 "cells": [
  {
   "cell_type": "code",
   "execution_count": 1,
   "metadata": {},
   "outputs": [],
   "source": [
    "import cv2 as cv\n",
    "import os\n",
    "import matplotlib.pyplot as plt\n",
    "import numpy as np"
   ]
  },
  {
   "cell_type": "code",
   "execution_count": 2,
   "metadata": {},
   "outputs": [
    {
     "output_type": "execute_result",
     "data": {
      "text/plain": [
       "'/data/uni/PBA-TI/3.2/afstudeerproject/cv_drone'"
      ]
     },
     "metadata": {},
     "execution_count": 2
    }
   ],
   "source": [
    "os.getcwd()"
   ]
  },
  {
   "cell_type": "code",
   "execution_count": 7,
   "metadata": {},
   "outputs": [],
   "source": [
    "img = cv.imread('../clean/steentjes/gt/00000001.png',0)"
   ]
  },
  {
   "cell_type": "code",
   "execution_count": 8,
   "metadata": {},
   "outputs": [
    {
     "output_type": "stream",
     "name": "stdout",
     "text": [
      "[[0 0 0 ... 0 0 0]\n [0 0 0 ... 0 0 0]\n [0 0 0 ... 0 0 0]\n ...\n [0 0 0 ... 0 0 0]\n [0 0 0 ... 0 0 0]\n [0 0 0 ... 0 0 0]]\n"
     ]
    }
   ],
   "source": [
    "print(img)"
   ]
  },
  {
   "cell_type": "code",
   "execution_count": 35,
   "metadata": {},
   "outputs": [],
   "source": [
    "im_array = np.asarray(img)\n",
    "row_y = int(0.85 * img.shape[0])\n",
    "row = im_array[row_y]"
   ]
  },
  {
   "cell_type": "code",
   "execution_count": 18,
   "metadata": {},
   "outputs": [
    {
     "output_type": "execute_result",
     "data": {
      "text/plain": [
       "1350.0"
      ]
     },
     "metadata": {},
     "execution_count": 18
    }
   ],
   "source": []
  },
  {
   "cell_type": "code",
   "execution_count": 41,
   "metadata": {},
   "outputs": [],
   "source": [
    "integraal = np.cumsum(row)\n",
    "path_center = np.argmax(integraal > max(integraal) / 2)\n",
    "path_center = 0.95 * img.shape[1]"
   ]
  },
  {
   "cell_type": "code",
   "execution_count": 42,
   "metadata": {},
   "outputs": [
    {
     "output_type": "execute_result",
     "data": {
      "text/plain": [
       "2000.0"
      ]
     },
     "metadata": {},
     "execution_count": 42
    }
   ],
   "source": [
    "image_center = len(row)/2\n",
    "image_center"
   ]
  },
  {
   "cell_type": "code",
   "execution_count": 43,
   "metadata": {},
   "outputs": [
    {
     "output_type": "execute_result",
     "data": {
      "text/plain": [
       "(1800.0, 0.9)"
      ]
     },
     "metadata": {},
     "execution_count": 43
    }
   ],
   "source": [
    "path_center_offset = path_center - image_center\n",
    "steer = path_center_offset / image_center\n",
    "path_center_offset, steer"
   ]
  },
  {
   "cell_type": "code",
   "execution_count": 39,
   "metadata": {
    "scrolled": true
   },
   "outputs": [
    {
     "output_type": "display_data",
     "data": {
      "text/plain": "<Figure size 432x288 with 1 Axes>",
      "image/svg+xml": "<?xml version=\"1.0\" encoding=\"utf-8\" standalone=\"no\"?>\n<!DOCTYPE svg PUBLIC \"-//W3C//DTD SVG 1.1//EN\"\n  \"http://www.w3.org/Graphics/SVG/1.1/DTD/svg11.dtd\">\n<!-- Created with matplotlib (https://matplotlib.org/) -->\n<svg height=\"185.495494pt\" version=\"1.1\" viewBox=\"0 0 381.65 185.495494\" width=\"381.65pt\" xmlns=\"http://www.w3.org/2000/svg\" xmlns:xlink=\"http://www.w3.org/1999/xlink\">\n <metadata>\n  <rdf:RDF xmlns:cc=\"http://creativecommons.org/ns#\" xmlns:dc=\"http://purl.org/dc/elements/1.1/\" xmlns:rdf=\"http://www.w3.org/1999/02/22-rdf-syntax-ns#\">\n   <cc:Work>\n    <dc:type rdf:resource=\"http://purl.org/dc/dcmitype/StillImage\"/>\n    <dc:date>2021-02-27T23:50:02.955963</dc:date>\n    <dc:format>image/svg+xml</dc:format>\n    <dc:creator>\n     <cc:Agent>\n      <dc:title>Matplotlib v3.3.4, https://matplotlib.org/</dc:title>\n     </cc:Agent>\n    </dc:creator>\n   </cc:Work>\n  </rdf:RDF>\n </metadata>\n <defs>\n  <style type=\"text/css\">*{stroke-linecap:butt;stroke-linejoin:round;}</style>\n </defs>\n <g id=\"figure_1\">\n  <g id=\"patch_1\">\n   <path d=\"M -0 185.495494 \nL 381.65 185.495494 \nL 381.65 0 \nL -0 0 \nz\n\" style=\"fill:none;\"/>\n  </g>\n  <g id=\"axes_1\">\n   <g id=\"patch_2\">\n    <path d=\"M 39.65 161.617369 \nL 374.45 161.617369 \nL 374.45 10.957369 \nL 39.65 10.957369 \nz\n\" style=\"fill:#ffffff;\"/>\n   </g>\n   <g clip-path=\"url(#pf26960150b)\">\n    <image height=\"151\" id=\"image46c012ac46\" transform=\"scale(1 -1)translate(0 -151)\" width=\"335\" x=\"39.65\" xlink:href=\"data:image/png;base64,\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\" y=\"-10.617369\"/>\n   </g>\n   <g id=\"matplotlib.axis_1\">\n    <g id=\"xtick_1\">\n     <g id=\"line2d_1\">\n      <defs>\n       <path d=\"M 0 0 \nL 0 3.5 \n\" id=\"ma64d28883e\" style=\"stroke:#000000;stroke-width:0.8;\"/>\n      </defs>\n      <g>\n       <use style=\"stroke:#000000;stroke-width:0.8;\" x=\"39.69185\" xlink:href=\"#ma64d28883e\" y=\"161.617369\"/>\n      </g>\n     </g>\n     <g id=\"text_1\">\n      <!-- 0 -->\n      <g transform=\"translate(36.5106 176.215806)scale(0.1 -0.1)\">\n       <defs>\n        <path d=\"M 31.78125 66.40625 \nQ 24.171875 66.40625 20.328125 58.90625 \nQ 16.5 51.421875 16.5 36.375 \nQ 16.5 21.390625 20.328125 13.890625 \nQ 24.171875 6.390625 31.78125 6.390625 \nQ 39.453125 6.390625 43.28125 13.890625 \nQ 47.125 21.390625 47.125 36.375 \nQ 47.125 51.421875 43.28125 58.90625 \nQ 39.453125 66.40625 31.78125 66.40625 \nz\nM 31.78125 74.21875 \nQ 44.046875 74.21875 50.515625 64.515625 \nQ 56.984375 54.828125 56.984375 36.375 \nQ 56.984375 17.96875 50.515625 8.265625 \nQ 44.046875 -1.421875 31.78125 -1.421875 \nQ 19.53125 -1.421875 13.0625 8.265625 \nQ 6.59375 17.96875 6.59375 36.375 \nQ 6.59375 54.828125 13.0625 64.515625 \nQ 19.53125 74.21875 31.78125 74.21875 \nz\n\" id=\"DejaVuSans-48\"/>\n       </defs>\n       <use xlink:href=\"#DejaVuSans-48\"/>\n      </g>\n     </g>\n    </g>\n    <g id=\"xtick_2\">\n     <g id=\"line2d_2\">\n      <g>\n       <use style=\"stroke:#000000;stroke-width:0.8;\" x=\"81.54185\" xlink:href=\"#ma64d28883e\" y=\"161.617369\"/>\n      </g>\n     </g>\n     <g id=\"text_2\">\n      <!-- 500 -->\n      <g transform=\"translate(71.9981 176.215806)scale(0.1 -0.1)\">\n       <defs>\n        <path d=\"M 10.796875 72.90625 \nL 49.515625 72.90625 \nL 49.515625 64.59375 \nL 19.828125 64.59375 \nL 19.828125 46.734375 \nQ 21.96875 47.46875 24.109375 47.828125 \nQ 26.265625 48.1875 28.421875 48.1875 \nQ 40.625 48.1875 47.75 41.5 \nQ 54.890625 34.8125 54.890625 23.390625 \nQ 54.890625 11.625 47.5625 5.09375 \nQ 40.234375 -1.421875 26.90625 -1.421875 \nQ 22.3125 -1.421875 17.546875 -0.640625 \nQ 12.796875 0.140625 7.71875 1.703125 \nL 7.71875 11.625 \nQ 12.109375 9.234375 16.796875 8.0625 \nQ 21.484375 6.890625 26.703125 6.890625 \nQ 35.15625 6.890625 40.078125 11.328125 \nQ 45.015625 15.765625 45.015625 23.390625 \nQ 45.015625 31 40.078125 35.4375 \nQ 35.15625 39.890625 26.703125 39.890625 \nQ 22.75 39.890625 18.8125 39.015625 \nQ 14.890625 38.140625 10.796875 36.28125 \nz\n\" id=\"DejaVuSans-53\"/>\n       </defs>\n       <use xlink:href=\"#DejaVuSans-53\"/>\n       <use x=\"63.623047\" xlink:href=\"#DejaVuSans-48\"/>\n       <use x=\"127.246094\" xlink:href=\"#DejaVuSans-48\"/>\n      </g>\n     </g>\n    </g>\n    <g id=\"xtick_3\">\n     <g id=\"line2d_3\">\n      <g>\n       <use style=\"stroke:#000000;stroke-width:0.8;\" x=\"123.39185\" xlink:href=\"#ma64d28883e\" y=\"161.617369\"/>\n      </g>\n     </g>\n     <g id=\"text_3\">\n      <!-- 1000 -->\n      <g transform=\"translate(110.66685 176.215806)scale(0.1 -0.1)\">\n       <defs>\n        <path d=\"M 12.40625 8.296875 \nL 28.515625 8.296875 \nL 28.515625 63.921875 \nL 10.984375 60.40625 \nL 10.984375 69.390625 \nL 28.421875 72.90625 \nL 38.28125 72.90625 \nL 38.28125 8.296875 \nL 54.390625 8.296875 \nL 54.390625 0 \nL 12.40625 0 \nz\n\" id=\"DejaVuSans-49\"/>\n       </defs>\n       <use xlink:href=\"#DejaVuSans-49\"/>\n       <use x=\"63.623047\" xlink:href=\"#DejaVuSans-48\"/>\n       <use x=\"127.246094\" xlink:href=\"#DejaVuSans-48\"/>\n       <use x=\"190.869141\" xlink:href=\"#DejaVuSans-48\"/>\n      </g>\n     </g>\n    </g>\n    <g id=\"xtick_4\">\n     <g id=\"line2d_4\">\n      <g>\n       <use style=\"stroke:#000000;stroke-width:0.8;\" x=\"165.24185\" xlink:href=\"#ma64d28883e\" y=\"161.617369\"/>\n      </g>\n     </g>\n     <g id=\"text_4\">\n      <!-- 1500 -->\n      <g transform=\"translate(152.51685 176.215806)scale(0.1 -0.1)\">\n       <use xlink:href=\"#DejaVuSans-49\"/>\n       <use x=\"63.623047\" xlink:href=\"#DejaVuSans-53\"/>\n       <use x=\"127.246094\" xlink:href=\"#DejaVuSans-48\"/>\n       <use x=\"190.869141\" xlink:href=\"#DejaVuSans-48\"/>\n      </g>\n     </g>\n    </g>\n    <g id=\"xtick_5\">\n     <g id=\"line2d_5\">\n      <g>\n       <use style=\"stroke:#000000;stroke-width:0.8;\" x=\"207.09185\" xlink:href=\"#ma64d28883e\" y=\"161.617369\"/>\n      </g>\n     </g>\n     <g id=\"text_5\">\n      <!-- 2000 -->\n      <g transform=\"translate(194.36685 176.215806)scale(0.1 -0.1)\">\n       <defs>\n        <path d=\"M 19.1875 8.296875 \nL 53.609375 8.296875 \nL 53.609375 0 \nL 7.328125 0 \nL 7.328125 8.296875 \nQ 12.9375 14.109375 22.625 23.890625 \nQ 32.328125 33.6875 34.8125 36.53125 \nQ 39.546875 41.84375 41.421875 45.53125 \nQ 43.3125 49.21875 43.3125 52.78125 \nQ 43.3125 58.59375 39.234375 62.25 \nQ 35.15625 65.921875 28.609375 65.921875 \nQ 23.96875 65.921875 18.8125 64.3125 \nQ 13.671875 62.703125 7.8125 59.421875 \nL 7.8125 69.390625 \nQ 13.765625 71.78125 18.9375 73 \nQ 24.125 74.21875 28.421875 74.21875 \nQ 39.75 74.21875 46.484375 68.546875 \nQ 53.21875 62.890625 53.21875 53.421875 \nQ 53.21875 48.921875 51.53125 44.890625 \nQ 49.859375 40.875 45.40625 35.40625 \nQ 44.1875 33.984375 37.640625 27.21875 \nQ 31.109375 20.453125 19.1875 8.296875 \nz\n\" id=\"DejaVuSans-50\"/>\n       </defs>\n       <use xlink:href=\"#DejaVuSans-50\"/>\n       <use x=\"63.623047\" xlink:href=\"#DejaVuSans-48\"/>\n       <use x=\"127.246094\" xlink:href=\"#DejaVuSans-48\"/>\n       <use x=\"190.869141\" xlink:href=\"#DejaVuSans-48\"/>\n      </g>\n     </g>\n    </g>\n    <g id=\"xtick_6\">\n     <g id=\"line2d_6\">\n      <g>\n       <use style=\"stroke:#000000;stroke-width:0.8;\" x=\"248.94185\" xlink:href=\"#ma64d28883e\" y=\"161.617369\"/>\n      </g>\n     </g>\n     <g id=\"text_6\">\n      <!-- 2500 -->\n      <g transform=\"translate(236.21685 176.215806)scale(0.1 -0.1)\">\n       <use xlink:href=\"#DejaVuSans-50\"/>\n       <use x=\"63.623047\" xlink:href=\"#DejaVuSans-53\"/>\n       <use x=\"127.246094\" xlink:href=\"#DejaVuSans-48\"/>\n       <use x=\"190.869141\" xlink:href=\"#DejaVuSans-48\"/>\n      </g>\n     </g>\n    </g>\n    <g id=\"xtick_7\">\n     <g id=\"line2d_7\">\n      <g>\n       <use style=\"stroke:#000000;stroke-width:0.8;\" x=\"290.79185\" xlink:href=\"#ma64d28883e\" y=\"161.617369\"/>\n      </g>\n     </g>\n     <g id=\"text_7\">\n      <!-- 3000 -->\n      <g transform=\"translate(278.06685 176.215806)scale(0.1 -0.1)\">\n       <defs>\n        <path d=\"M 40.578125 39.3125 \nQ 47.65625 37.796875 51.625 33 \nQ 55.609375 28.21875 55.609375 21.1875 \nQ 55.609375 10.40625 48.1875 4.484375 \nQ 40.765625 -1.421875 27.09375 -1.421875 \nQ 22.515625 -1.421875 17.65625 -0.515625 \nQ 12.796875 0.390625 7.625 2.203125 \nL 7.625 11.71875 \nQ 11.71875 9.328125 16.59375 8.109375 \nQ 21.484375 6.890625 26.8125 6.890625 \nQ 36.078125 6.890625 40.9375 10.546875 \nQ 45.796875 14.203125 45.796875 21.1875 \nQ 45.796875 27.640625 41.28125 31.265625 \nQ 36.765625 34.90625 28.71875 34.90625 \nL 20.21875 34.90625 \nL 20.21875 43.015625 \nL 29.109375 43.015625 \nQ 36.375 43.015625 40.234375 45.921875 \nQ 44.09375 48.828125 44.09375 54.296875 \nQ 44.09375 59.90625 40.109375 62.90625 \nQ 36.140625 65.921875 28.71875 65.921875 \nQ 24.65625 65.921875 20.015625 65.03125 \nQ 15.375 64.15625 9.8125 62.3125 \nL 9.8125 71.09375 \nQ 15.4375 72.65625 20.34375 73.4375 \nQ 25.25 74.21875 29.59375 74.21875 \nQ 40.828125 74.21875 47.359375 69.109375 \nQ 53.90625 64.015625 53.90625 55.328125 \nQ 53.90625 49.265625 50.4375 45.09375 \nQ 46.96875 40.921875 40.578125 39.3125 \nz\n\" id=\"DejaVuSans-51\"/>\n       </defs>\n       <use xlink:href=\"#DejaVuSans-51\"/>\n       <use x=\"63.623047\" xlink:href=\"#DejaVuSans-48\"/>\n       <use x=\"127.246094\" xlink:href=\"#DejaVuSans-48\"/>\n       <use x=\"190.869141\" xlink:href=\"#DejaVuSans-48\"/>\n      </g>\n     </g>\n    </g>\n    <g id=\"xtick_8\">\n     <g id=\"line2d_8\">\n      <g>\n       <use style=\"stroke:#000000;stroke-width:0.8;\" x=\"332.64185\" xlink:href=\"#ma64d28883e\" y=\"161.617369\"/>\n      </g>\n     </g>\n     <g id=\"text_8\">\n      <!-- 3500 -->\n      <g transform=\"translate(319.91685 176.215806)scale(0.1 -0.1)\">\n       <use xlink:href=\"#DejaVuSans-51\"/>\n       <use x=\"63.623047\" xlink:href=\"#DejaVuSans-53\"/>\n       <use x=\"127.246094\" xlink:href=\"#DejaVuSans-48\"/>\n       <use x=\"190.869141\" xlink:href=\"#DejaVuSans-48\"/>\n      </g>\n     </g>\n    </g>\n   </g>\n   <g id=\"matplotlib.axis_2\">\n    <g id=\"ytick_1\">\n     <g id=\"line2d_9\">\n      <defs>\n       <path d=\"M 0 0 \nL -3.5 0 \n\" id=\"m23c6207a4e\" style=\"stroke:#000000;stroke-width:0.8;\"/>\n      </defs>\n      <g>\n       <use style=\"stroke:#000000;stroke-width:0.8;\" x=\"39.65\" xlink:href=\"#m23c6207a4e\" y=\"10.999219\"/>\n      </g>\n     </g>\n     <g id=\"text_9\">\n      <!-- 0 -->\n      <g transform=\"translate(26.2875 14.798437)scale(0.1 -0.1)\">\n       <use xlink:href=\"#DejaVuSans-48\"/>\n      </g>\n     </g>\n    </g>\n    <g id=\"ytick_2\">\n     <g id=\"line2d_10\">\n      <g>\n       <use style=\"stroke:#000000;stroke-width:0.8;\" x=\"39.65\" xlink:href=\"#m23c6207a4e\" y=\"52.849219\"/>\n      </g>\n     </g>\n     <g id=\"text_10\">\n      <!-- 500 -->\n      <g transform=\"translate(13.5625 56.648438)scale(0.1 -0.1)\">\n       <use xlink:href=\"#DejaVuSans-53\"/>\n       <use x=\"63.623047\" xlink:href=\"#DejaVuSans-48\"/>\n       <use x=\"127.246094\" xlink:href=\"#DejaVuSans-48\"/>\n      </g>\n     </g>\n    </g>\n    <g id=\"ytick_3\">\n     <g id=\"line2d_11\">\n      <g>\n       <use style=\"stroke:#000000;stroke-width:0.8;\" x=\"39.65\" xlink:href=\"#m23c6207a4e\" y=\"94.699219\"/>\n      </g>\n     </g>\n     <g id=\"text_11\">\n      <!-- 1000 -->\n      <g transform=\"translate(7.2 98.498437)scale(0.1 -0.1)\">\n       <use xlink:href=\"#DejaVuSans-49\"/>\n       <use x=\"63.623047\" xlink:href=\"#DejaVuSans-48\"/>\n       <use x=\"127.246094\" xlink:href=\"#DejaVuSans-48\"/>\n       <use x=\"190.869141\" xlink:href=\"#DejaVuSans-48\"/>\n      </g>\n     </g>\n    </g>\n    <g id=\"ytick_4\">\n     <g id=\"line2d_12\">\n      <g>\n       <use style=\"stroke:#000000;stroke-width:0.8;\" x=\"39.65\" xlink:href=\"#m23c6207a4e\" y=\"136.549219\"/>\n      </g>\n     </g>\n     <g id=\"text_12\">\n      <!-- 1500 -->\n      <g transform=\"translate(7.2 140.348437)scale(0.1 -0.1)\">\n       <use xlink:href=\"#DejaVuSans-49\"/>\n       <use x=\"63.623047\" xlink:href=\"#DejaVuSans-53\"/>\n       <use x=\"127.246094\" xlink:href=\"#DejaVuSans-48\"/>\n       <use x=\"190.869141\" xlink:href=\"#DejaVuSans-48\"/>\n      </g>\n     </g>\n    </g>\n   </g>\n   <g id=\"line2d_13\">\n    <path clip-path=\"url(#pf26960150b)\" d=\"M 283.76105 161.617369 \nL 283.76105 10.957369 \n\" style=\"fill:none;stroke:#ff0000;stroke-linecap:square;stroke-width:1.5;\"/>\n   </g>\n   <g id=\"line2d_14\">\n    <path clip-path=\"url(#pf26960150b)\" d=\"M 39.65 139.060219 \nL 374.45 139.060219 \n\" style=\"fill:none;stroke:#0000ff;stroke-linecap:square;stroke-width:1.5;\"/>\n   </g>\n   <g id=\"line2d_15\">\n    <path clip-path=\"url(#pf26960150b)\" d=\"M 207.09185 161.617369 \nL 207.09185 10.957369 \n\" style=\"fill:none;stroke:#008000;stroke-linecap:square;stroke-width:1.5;\"/>\n   </g>\n   <g id=\"patch_3\">\n    <path d=\"M 39.65 161.617369 \nL 39.65 10.957369 \n\" style=\"fill:none;stroke:#000000;stroke-linecap:square;stroke-linejoin:miter;stroke-width:0.8;\"/>\n   </g>\n   <g id=\"patch_4\">\n    <path d=\"M 374.45 161.617369 \nL 374.45 10.957369 \n\" style=\"fill:none;stroke:#000000;stroke-linecap:square;stroke-linejoin:miter;stroke-width:0.8;\"/>\n   </g>\n   <g id=\"patch_5\">\n    <path d=\"M 39.65 161.617369 \nL 374.45 161.617369 \n\" style=\"fill:none;stroke:#000000;stroke-linecap:square;stroke-linejoin:miter;stroke-width:0.8;\"/>\n   </g>\n   <g id=\"patch_6\">\n    <path d=\"M 39.65 10.957369 \nL 374.45 10.957369 \n\" style=\"fill:none;stroke:#000000;stroke-linecap:square;stroke-linejoin:miter;stroke-width:0.8;\"/>\n   </g>\n  </g>\n </g>\n <defs>\n  <clipPath id=\"pf26960150b\">\n   <rect height=\"150.66\" width=\"334.8\" x=\"39.65\" y=\"10.957369\"/>\n  </clipPath>\n </defs>\n</svg>\n",
      "image/png": "[encoded data removed]"
     },
     "metadata": {
      "needs_background": "light"
     }
    }
   ],
   "source": [
    "plt.imshow(im_array)\n",
    "plt.axvline(x=path_center, c='r')\n",
    "plt.axhline(y=row_y, c='b')\n",
    "plt.axvline(x=image_center, c='g')\n",
    "plt.show()"
   ]
  },
  {
   "cell_type": "code",
   "execution_count": null,
   "metadata": {},
   "outputs": [],
   "source": []
  }
 ],
 "metadata": {
  "kernelspec": {
   "display_name": "droneenv",
   "language": "python",
   "name": "droneenv"
  },
  "language_info": {
   "codemirror_mode": {
    "name": "ipython",
    "version": 3
   },
   "file_extension": ".py",
   "mimetype": "text/x-python",
   "name": "python",
   "nbconvert_exporter": "python",
   "pygments_lexer": "ipython3",
   "version": "3.8.5-final"
  }
 },
 "nbformat": 4,
 "nbformat_minor": 4
}