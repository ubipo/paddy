{
 "cells": [
  {
   "cell_type": "markdown",
   "id": "fancy-component",
   "metadata": {},
   "source": [
    "# Giusti"
   ]
  },
  {
   "cell_type": "code",
   "execution_count": 1,
   "id": "burning-neutral",
   "metadata": {},
   "outputs": [
    {
     "name": "stderr",
     "output_type": "stream",
     "text": [
      "WARNING:root:Limited tf.compat.v2.summary API due to missing TensorBoard installation.\n",
      "WARNING:root:Limited tf.compat.v2.summary API due to missing TensorBoard installation.\n",
      "WARNING:root:Limited tf.compat.v2.summary API due to missing TensorBoard installation.\n",
      "WARNING:root:Limited tf.summary API due to missing TensorBoard installation.\n"
     ]
    },
    {
     "name": "stdout",
     "output_type": "stream",
     "text": [
      "Segmentation Models: using `tf.keras` framework.\n"
     ]
    }
   ],
   "source": [
    "from datetime import datetime\n",
    "\n",
    "import matplotlib.pyplot as plt\n",
    "import numpy as np\n",
    "\n",
    "import tensorflow as tf\n",
    "from tensorflow.python.distribute.tpu_strategy import TPUStrategy\n",
    "import segmentation_models as sm"
   ]
  },
  {
   "cell_type": "code",
   "execution_count": 2,
   "id": "stunning-orange",
   "metadata": {},
   "outputs": [],
   "source": [
    "# Convenience methods\n",
    "from visualise import show_two, show\n",
    "from tpu import resolve_tpu_strategy, get_tpu_devices\n",
    "from dataset import load_dataset, split_dataset_paths"
   ]
  },
  {
   "cell_type": "markdown",
   "id": "pharmaceutical-simulation",
   "metadata": {},
   "source": [
    "TODO: Load giusti dataset instead of freiburg, do transfer learning (or combine the two?), show metrics comparing the only-freiburg model to the freiburg+giusti-model on some giusti images, hopefully the latter will perform better"
   ]
  },
  {
   "cell_type": "code",
   "execution_count": null,
   "id": "unusual-mobile",
   "metadata": {},
   "outputs": [],
   "source": []
  }
 ],
 "metadata": {
  "kernelspec": {
   "display_name": "Python 3",
   "language": "python",
   "name": "python3"
  },
  "language_info": {
   "codemirror_mode": {
    "name": "ipython",
    "version": 3
   },
   "file_extension": ".py",
   "mimetype": "text/x-python",
   "name": "python",
   "nbconvert_exporter": "python",
   "pygments_lexer": "ipython3",
   "version": "3.8.8"
  }
 },
 "nbformat": 4,
 "nbformat_minor": 5
}
